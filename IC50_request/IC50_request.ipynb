{
 "cells": [
  {
   "cell_type": "markdown",
   "metadata": {},
   "source": [
    "## Problema\n",
    "\n",
    "Dada una lista de compuestos y una lista de ensayos, obtener un csv con los valores de IC50 de esos compuestos en esos ensayos."
   ]
  },
  {
   "cell_type": "code",
   "execution_count": 1,
   "metadata": {},
   "outputs": [
    {
     "name": "stdout",
     "output_type": "stream",
     "text": [
      "Assays:  77966,77967,158929,341241,341242\n",
      "Compounds:  984240,10644619,24860464,10694479,10788715,10732494,10642107,121596332\n"
     ]
    }
   ],
   "source": [
    "assay_urls = [  \"https://pubchem.ncbi.nlm.nih.gov/bioassay/77966\" ,\n",
    "                \"https://pubchem.ncbi.nlm.nih.gov/bioassay/77967\" ,\n",
    "                \"https://pubchem.ncbi.nlm.nih.gov/bioassay/158929\",\n",
    "                \"https://pubchem.ncbi.nlm.nih.gov/bioassay/341241\",\n",
    "                \"https://pubchem.ncbi.nlm.nih.gov/bioassay/341242\" ]\n",
    "\n",
    "compound_urls= [\"https://pubchem.ncbi.nlm.nih.gov/compound/984240\",\n",
    "                \"https://pubchem.ncbi.nlm.nih.gov/compound/10644619\",\n",
    "                \"https://pubchem.ncbi.nlm.nih.gov/compound/24860464\",\n",
    "                \"https://pubchem.ncbi.nlm.nih.gov/compound/10694479\",\n",
    "                \"https://pubchem.ncbi.nlm.nih.gov/compound/10788715\",\n",
    "                \"https://pubchem.ncbi.nlm.nih.gov/compound/10732494\",\n",
    "                \"https://pubchem.ncbi.nlm.nih.gov/compound/10642107\",\n",
    "                \"https://pubchem.ncbi.nlm.nih.gov/compound/121596332\" ]\n",
    "\n",
    "\n",
    "# Extrayendo los identificadores de las URLs\n",
    "assay_ids = [int(url.split(\"/\")[-1]) for url in assay_urls]\n",
    "compound_ids = [int(url.split(\"/\")[-1]) for url in compound_urls]\n",
    "\n",
    "# Creando el string de ids separadas por coma para la URL de la consulta\n",
    "assay_ids_st = ','.join([str(id) for id in assay_ids])\n",
    "compound_ids_st = ','.join([str(id) for id in compound_ids])\n",
    "\n",
    "print(\"Assays: \", assay_ids_st)\n",
    "print(\"Compounds: \", compound_ids_st)\n"
   ]
  },
  {
   "cell_type": "markdown",
   "metadata": {},
   "source": [
    "## Solución 1\n",
    "\n",
    "Obtener los datos de todos los compuestos de esos ensayos usando la opción  __concise__ , luego filtrar los compuestos especificados."
   ]
  },
  {
   "cell_type": "code",
   "execution_count": 3,
   "metadata": {},
   "outputs": [
    {
     "name": "stdout",
     "output_type": "stream",
     "text": [
      "        AID       CID  Activity Value [uM] Activity Name\n",
      "1     77966  10788715                 3.86        KB app\n",
      "3     77966  10732494                 1.98        KB app\n",
      "4     77966  10642107                 1.13        KB app\n",
      "8     77966  10644619                22.62        KB app\n",
      "67   158929  10788715                 0.61          IC50\n",
      "70   158929  10732494                 1.61          IC50\n",
      "79   158929  10642107                 1.36          IC50\n",
      "104  158929  10644619                 0.94          IC50\n"
     ]
    }
   ],
   "source": [
    "import requests\n",
    "import pandas as pd\n",
    "\n",
    "requests_url = f\"https://pubchem.ncbi.nlm.nih.gov/rest/pug/assay/aid/{assay_ids_st}/concise/CSV\"\n",
    " \n",
    "response = requests.get(requests_url)\n",
    "\n",
    "with open('output/data1.csv', 'wb') as f:\n",
    "    f.write(response.content)\n",
    "\n",
    "df = pd.read_csv('output/data1.csv')\n",
    "\n",
    "# Dejando solo los campos de interés\n",
    "df = df[['AID','CID','Activity Value [uM]','Activity Name']]\n",
    "\n",
    "# Filtrando los compuestos de interés\n",
    "df = df[df['CID'].isin(compound_ids)]\n",
    "\n",
    "df.to_csv('output/data1.csv')\n",
    "\n",
    "print(df)"
   ]
  },
  {
   "cell_type": "markdown",
   "metadata": {},
   "source": [
    "## Solución 2\n",
    "\n",
    "Dado que un ensayo puede incluir miles de compuestos, y solo nos interesa verificar un conjunto pequeño y específico de ellos, la solución anterior es ineficiente. La alternativa es iterar por cada ensayo recuperando información solo de los compuestos de interés."
   ]
  },
  {
   "cell_type": "code",
   "execution_count": 4,
   "metadata": {},
   "outputs": [
    {
     "name": "stderr",
     "output_type": "stream",
     "text": [
      "/tmp/ipykernel_20240/1450373813.py:23: FutureWarning: The behavior of DataFrame concatenation with empty or all-NA entries is deprecated. In a future version, this will no longer exclude empty or all-NA columns when determining the result dtypes. To retain the old behavior, exclude the relevant entries before the concat operation.\n",
      "  df = pd.concat([df, aux_df], ignore_index=True)\n"
     ]
    },
    {
     "name": "stdout",
     "output_type": "stream",
     "text": [
      "   PUBCHEM_CID PubChem Standard Value Standard Type       AID\n",
      "0   10788715.0                   3.86        KB app   77966.0\n",
      "1   10732494.0                   1.98        KB app   77966.0\n",
      "2   10642107.0                   1.13        KB app   77966.0\n",
      "3   10644619.0                  22.62        KB app   77966.0\n",
      "4   10788715.0                   0.61          IC50  158929.0\n",
      "5   10732494.0                   1.61          IC50  158929.0\n",
      "6   10642107.0                   1.36          IC50  158929.0\n",
      "7   10644619.0                   0.94          IC50  158929.0\n"
     ]
    }
   ],
   "source": [
    "df = pd.DataFrame(columns=['PUBCHEM_CID','PubChem Standard Value','Standard Type'])\n",
    "\n",
    "for assay in assay_ids:\n",
    "    requests_url = f\"https://pubchem.ncbi.nlm.nih.gov/rest/pug/assay/aid/{str(assay)}/CSV?cid={compound_ids_st}\"\n",
    "\n",
    "    response = requests.get(requests_url)\n",
    "\n",
    "    if response.status_code == 200:\n",
    "\n",
    "        with open('output/data2.csv', 'wb') as f:\n",
    "            f.write(response.content)\n",
    "\n",
    "        aux_df = pd.read_csv('output/data2.csv')\n",
    "\n",
    "        # Filtrando las filas correspondientes a compuestos\n",
    "        aux_df = aux_df[aux_df['PUBCHEM_CID'].notna()]\n",
    "\n",
    "        # Dejando solo los campos de interés\n",
    "        aux_df = aux_df[['PUBCHEM_CID','PubChem Standard Value','Standard Type']]\n",
    "\n",
    "        aux_df['AID'] = assay\n",
    "\n",
    "        df = pd.concat([df, aux_df], ignore_index=True)\n",
    "\n",
    "df.to_csv('output/data2.csv')\n",
    "\n",
    "print(df)"
   ]
  }
 ],
 "metadata": {
  "kernelspec": {
   "display_name": "Python 3",
   "language": "python",
   "name": "python3"
  },
  "language_info": {
   "codemirror_mode": {
    "name": "ipython",
    "version": 3
   },
   "file_extension": ".py",
   "mimetype": "text/x-python",
   "name": "python",
   "nbconvert_exporter": "python",
   "pygments_lexer": "ipython3",
   "version": "3.10.12"
  }
 },
 "nbformat": 4,
 "nbformat_minor": 2
}
